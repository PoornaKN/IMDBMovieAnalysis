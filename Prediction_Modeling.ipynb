{
 "cells": [
  {
   "cell_type": "code",
   "execution_count": 3,
   "metadata": {},
   "outputs": [],
   "source": [
    "import pandas as pd\n",
    "import numpy as np\n",
    "import matplotlib.pyplot as plt\n",
    "import seaborn as sns\n",
    "import datetime\n",
    "from sklearn.preprocessing import MinMaxScaler\n",
    "from sklearn.linear_model import LinearRegression\n",
    "import statsmodels.api as sm\n",
    "from ast import literal_eval\n",
    "import warnings\n",
    "from matplotlib import pyplot\n",
    "warnings.filterwarnings(\"ignore\")"
   ]
  },
  {
   "cell_type": "code",
   "execution_count": 4,
   "metadata": {},
   "outputs": [],
   "source": [
    "data = pd.read_csv(\"Modeldata.csv\")"
   ]
  },
  {
   "cell_type": "markdown",
   "metadata": {},
   "source": [
    "# Dropping columns\n"
   ]
  },
  {
   "cell_type": "code",
   "execution_count": 5,
   "metadata": {},
   "outputs": [],
   "source": [
    "model_data = data.drop([\"Title\",\"Vote Count\",\"Status\",\"Vote Average\"],axis=1)"
   ]
  },
  {
   "cell_type": "markdown",
   "metadata": {},
   "source": [
    "# Feature Engineering\n"
   ]
  },
  {
   "cell_type": "code",
   "execution_count": 6,
   "metadata": {},
   "outputs": [],
   "source": [
    "model_data[\"Release Year\"] = 2021 - model_data[\"Release Year\"] "
   ]
  },
  {
   "cell_type": "markdown",
   "metadata": {},
   "source": [
    "# Normalization"
   ]
  },
  {
   "cell_type": "code",
   "execution_count": 7,
   "metadata": {},
   "outputs": [],
   "source": [
    "scalar = MinMaxScaler()"
   ]
  },
  {
   "cell_type": "code",
   "execution_count": 8,
   "metadata": {},
   "outputs": [],
   "source": [
    "scalar.fit(model_data[[\"Budget\"]])\n",
    "model_data[\"Budget\"] = scalar.transform(model_data[[\"Budget\"]])"
   ]
  },
  {
   "cell_type": "code",
   "execution_count": 9,
   "metadata": {},
   "outputs": [],
   "source": [
    "scalar.fit(model_data[[\"Revenue\"]])\n",
    "model_data[\"Revenue\"] = scalar.transform(model_data[[\"Revenue\"]])"
   ]
  },
  {
   "cell_type": "code",
   "execution_count": 10,
   "metadata": {},
   "outputs": [],
   "source": [
    "scalar.fit(model_data[[\"Runtime\"]])\n",
    "model_data[\"Runtime\"] = scalar.transform(model_data[[\"Runtime\"]])"
   ]
  },
  {
   "cell_type": "code",
   "execution_count": 11,
   "metadata": {},
   "outputs": [
    {
     "data": {
      "text/html": [
       "<div>\n",
       "<style scoped>\n",
       "    .dataframe tbody tr th:only-of-type {\n",
       "        vertical-align: middle;\n",
       "    }\n",
       "\n",
       "    .dataframe tbody tr th {\n",
       "        vertical-align: top;\n",
       "    }\n",
       "\n",
       "    .dataframe thead th {\n",
       "        text-align: right;\n",
       "    }\n",
       "</style>\n",
       "<table border=\"1\" class=\"dataframe\">\n",
       "  <thead>\n",
       "    <tr style=\"text-align: right;\">\n",
       "      <th></th>\n",
       "      <th>IMDB_id</th>\n",
       "      <th>Budget</th>\n",
       "      <th>Revenue</th>\n",
       "      <th>Runtime</th>\n",
       "      <th>Language</th>\n",
       "      <th>Country</th>\n",
       "      <th>Certificate</th>\n",
       "      <th>Rating</th>\n",
       "      <th>Release Year</th>\n",
       "      <th>Genre1</th>\n",
       "    </tr>\n",
       "  </thead>\n",
       "  <tbody>\n",
       "    <tr>\n",
       "      <th>0</th>\n",
       "      <td>tt0114709</td>\n",
       "      <td>0.099970</td>\n",
       "      <td>0.179155</td>\n",
       "      <td>0.092391</td>\n",
       "      <td>English</td>\n",
       "      <td>United States</td>\n",
       "      <td>G</td>\n",
       "      <td>8.3</td>\n",
       "      <td>26</td>\n",
       "      <td>Animation</td>\n",
       "    </tr>\n",
       "    <tr>\n",
       "      <th>1</th>\n",
       "      <td>tt0113497</td>\n",
       "      <td>0.216641</td>\n",
       "      <td>0.119375</td>\n",
       "      <td>0.217391</td>\n",
       "      <td>English</td>\n",
       "      <td>United States</td>\n",
       "      <td>PG</td>\n",
       "      <td>7.0</td>\n",
       "      <td>26</td>\n",
       "      <td>Adventure</td>\n",
       "    </tr>\n",
       "    <tr>\n",
       "      <th>2</th>\n",
       "      <td>tt0113277</td>\n",
       "      <td>0.199973</td>\n",
       "      <td>0.085135</td>\n",
       "      <td>0.576087</td>\n",
       "      <td>English</td>\n",
       "      <td>United States</td>\n",
       "      <td>R</td>\n",
       "      <td>8.2</td>\n",
       "      <td>26</td>\n",
       "      <td>Action</td>\n",
       "    </tr>\n",
       "    <tr>\n",
       "      <th>3</th>\n",
       "      <td>tt0113189</td>\n",
       "      <td>0.199973</td>\n",
       "      <td>0.159968</td>\n",
       "      <td>0.358696</td>\n",
       "      <td>English</td>\n",
       "      <td>United States</td>\n",
       "      <td>PG-13</td>\n",
       "      <td>7.2</td>\n",
       "      <td>26</td>\n",
       "      <td>Adventure</td>\n",
       "    </tr>\n",
       "    <tr>\n",
       "      <th>4</th>\n",
       "      <td>tt0112641</td>\n",
       "      <td>0.173306</td>\n",
       "      <td>0.052739</td>\n",
       "      <td>0.619565</td>\n",
       "      <td>English</td>\n",
       "      <td>France</td>\n",
       "      <td>R</td>\n",
       "      <td>8.2</td>\n",
       "      <td>26</td>\n",
       "      <td>Drama</td>\n",
       "    </tr>\n",
       "    <tr>\n",
       "      <th>...</th>\n",
       "      <td>...</td>\n",
       "      <td>...</td>\n",
       "      <td>...</td>\n",
       "      <td>...</td>\n",
       "      <td>...</td>\n",
       "      <td>...</td>\n",
       "      <td>...</td>\n",
       "      <td>...</td>\n",
       "      <td>...</td>\n",
       "      <td>...</td>\n",
       "    </tr>\n",
       "    <tr>\n",
       "      <th>808</th>\n",
       "      <td>tt0374298</td>\n",
       "      <td>0.013300</td>\n",
       "      <td>0.008412</td>\n",
       "      <td>0.358696</td>\n",
       "      <td>Russian</td>\n",
       "      <td>Bulgaria</td>\n",
       "      <td>NaN</td>\n",
       "      <td>7.0</td>\n",
       "      <td>16</td>\n",
       "      <td>NaN</td>\n",
       "    </tr>\n",
       "    <tr>\n",
       "      <th>809</th>\n",
       "      <td>tt0270288</td>\n",
       "      <td>0.099970</td>\n",
       "      <td>0.014995</td>\n",
       "      <td>0.266304</td>\n",
       "      <td>English</td>\n",
       "      <td>Canada</td>\n",
       "      <td>R</td>\n",
       "      <td>7.0</td>\n",
       "      <td>19</td>\n",
       "      <td>NaN</td>\n",
       "    </tr>\n",
       "    <tr>\n",
       "      <th>810</th>\n",
       "      <td>tt0498505</td>\n",
       "      <td>0.016634</td>\n",
       "      <td>0.003770</td>\n",
       "      <td>0.288043</td>\n",
       "      <td>Japanese</td>\n",
       "      <td>Japan</td>\n",
       "      <td>NaN</td>\n",
       "      <td>7.3</td>\n",
       "      <td>15</td>\n",
       "      <td>NaN</td>\n",
       "    </tr>\n",
       "    <tr>\n",
       "      <th>811</th>\n",
       "      <td>tt0221809</td>\n",
       "      <td>0.000967</td>\n",
       "      <td>0.000067</td>\n",
       "      <td>0.201087</td>\n",
       "      <td>English</td>\n",
       "      <td>Germany</td>\n",
       "      <td>Not Rated</td>\n",
       "      <td>7.6</td>\n",
       "      <td>20</td>\n",
       "      <td>NaN</td>\n",
       "    </tr>\n",
       "    <tr>\n",
       "      <th>812</th>\n",
       "      <td>tt0439662</td>\n",
       "      <td>0.017634</td>\n",
       "      <td>0.010075</td>\n",
       "      <td>0.565217</td>\n",
       "      <td>NotApplicable</td>\n",
       "      <td>India</td>\n",
       "      <td>Not Rated</td>\n",
       "      <td>7.2</td>\n",
       "      <td>15</td>\n",
       "      <td>NaN</td>\n",
       "    </tr>\n",
       "  </tbody>\n",
       "</table>\n",
       "<p>813 rows × 10 columns</p>\n",
       "</div>"
      ],
      "text/plain": [
       "       IMDB_id    Budget   Revenue   Runtime       Language        Country  \\\n",
       "0    tt0114709  0.099970  0.179155  0.092391        English  United States   \n",
       "1    tt0113497  0.216641  0.119375  0.217391        English  United States   \n",
       "2    tt0113277  0.199973  0.085135  0.576087        English  United States   \n",
       "3    tt0113189  0.199973  0.159968  0.358696        English  United States   \n",
       "4    tt0112641  0.173306  0.052739  0.619565        English         France   \n",
       "..         ...       ...       ...       ...            ...            ...   \n",
       "808  tt0374298  0.013300  0.008412  0.358696        Russian       Bulgaria   \n",
       "809  tt0270288  0.099970  0.014995  0.266304        English         Canada   \n",
       "810  tt0498505  0.016634  0.003770  0.288043       Japanese          Japan   \n",
       "811  tt0221809  0.000967  0.000067  0.201087        English        Germany   \n",
       "812  tt0439662  0.017634  0.010075  0.565217  NotApplicable          India   \n",
       "\n",
       "    Certificate  Rating  Release Year     Genre1  \n",
       "0             G     8.3            26  Animation  \n",
       "1            PG     7.0            26  Adventure  \n",
       "2             R     8.2            26     Action  \n",
       "3         PG-13     7.2            26  Adventure  \n",
       "4             R     8.2            26      Drama  \n",
       "..          ...     ...           ...        ...  \n",
       "808         NaN     7.0            16        NaN  \n",
       "809           R     7.0            19        NaN  \n",
       "810         NaN     7.3            15        NaN  \n",
       "811   Not Rated     7.6            20        NaN  \n",
       "812   Not Rated     7.2            15        NaN  \n",
       "\n",
       "[813 rows x 10 columns]"
      ]
     },
     "execution_count": 11,
     "metadata": {},
     "output_type": "execute_result"
    }
   ],
   "source": [
    "model_data"
   ]
  },
  {
   "cell_type": "markdown",
   "metadata": {},
   "source": [
    "# Dummy coding"
   ]
  },
  {
   "cell_type": "code",
   "execution_count": 12,
   "metadata": {},
   "outputs": [],
   "source": [
    "temp_dummy = pd.get_dummies(model_data)"
   ]
  },
  {
   "cell_type": "markdown",
   "metadata": {},
   "source": [
    "# Dimention Reduction"
   ]
  },
  {
   "cell_type": "code",
   "execution_count": 13,
   "metadata": {},
   "outputs": [],
   "source": [
    "temp_dummy_final = temp_dummy[[\"Runtime\",\"Rating\",\"Release Year\",\"Language_English\",\"Language_French\",\"Genre1_Drama\",\"Genre1_Comedy\",\"Certificate_R\",\"Certificate_PG\",\"Certificate_PG-13\",\"Country_United States\",\"Country_United Kingdom\",\"Country_Germany\",\"Country_France\",\"Country_Japan\",\"Country_Canada\",\"Genre1_Adventure\",\"Genre1_Action\",\"Genre1_Crime\",\"Genre1_Horror\"]]"
   ]
  },
  {
   "cell_type": "markdown",
   "metadata": {},
   "source": [
    "# Adding constant"
   ]
  },
  {
   "cell_type": "code",
   "execution_count": 14,
   "metadata": {},
   "outputs": [],
   "source": [
    "temp_dummy_final['constant']=1"
   ]
  },
  {
   "cell_type": "markdown",
   "metadata": {},
   "source": [
    "# Model Building"
   ]
  },
  {
   "cell_type": "code",
   "execution_count": 15,
   "metadata": {},
   "outputs": [],
   "source": [
    "\n",
    "mod = sm.OLS(temp_dummy_final[\"Rating\"],temp_dummy_final.drop(\"Rating\",axis=1))\n",
    "\n",
    "fii = mod.fit()\n",
    "\n",
    "p_values = fii.summary2().tables[1]['P>|t|']"
   ]
  },
  {
   "cell_type": "code",
   "execution_count": 16,
   "metadata": {},
   "outputs": [
    {
     "data": {
      "text/html": [
       "<table class=\"simpletable\">\n",
       "<tr>\n",
       "        <td>Model:</td>               <td>OLS</td>         <td>Adj. R-squared:</td>     <td>0.167</td> \n",
       "</tr>\n",
       "<tr>\n",
       "  <td>Dependent Variable:</td>      <td>Rating</td>             <td>AIC:</td>         <td>891.4343</td>\n",
       "</tr>\n",
       "<tr>\n",
       "         <td>Date:</td>        <td>2021-10-03 17:03</td>        <td>BIC:</td>         <td>985.4489</td>\n",
       "</tr>\n",
       "<tr>\n",
       "   <td>No. Observations:</td>         <td>813</td>         <td>Log-Likelihood:</td>    <td>-425.72</td>\n",
       "</tr>\n",
       "<tr>\n",
       "       <td>Df Model:</td>             <td>19</td>           <td>F-statistic:</td>       <td>9.546</td> \n",
       "</tr>\n",
       "<tr>\n",
       "     <td>Df Residuals:</td>           <td>793</td>       <td>Prob (F-statistic):</td> <td>2.63e-25</td>\n",
       "</tr>\n",
       "<tr>\n",
       "      <td>R-squared:</td>            <td>0.186</td>            <td>Scale:</td>         <td>0.17107</td>\n",
       "</tr>\n",
       "</table>\n",
       "<table class=\"simpletable\">\n",
       "<tr>\n",
       "             <td></td>             <th>Coef.</th>  <th>Std.Err.</th>    <th>t</th>     <th>P>|t|</th> <th>[0.025</th>  <th>0.975]</th> \n",
       "</tr>\n",
       "<tr>\n",
       "  <th>Runtime</th>                <td>0.8183</td>   <td>0.1105</td>  <td>7.4044</td>  <td>0.0000</td> <td>0.6013</td>  <td>1.0352</td> \n",
       "</tr>\n",
       "<tr>\n",
       "  <th>Release Year</th>           <td>0.0071</td>   <td>0.0010</td>  <td>6.9840</td>  <td>0.0000</td> <td>0.0051</td>  <td>0.0091</td> \n",
       "</tr>\n",
       "<tr>\n",
       "  <th>Language_English</th>       <td>-0.1659</td>  <td>0.0641</td>  <td>-2.5900</td> <td>0.0098</td> <td>-0.2916</td> <td>-0.0402</td>\n",
       "</tr>\n",
       "<tr>\n",
       "  <th>Language_French</th>        <td>-0.1793</td>  <td>0.1037</td>  <td>-1.7300</td> <td>0.0840</td> <td>-0.3828</td> <td>0.0242</td> \n",
       "</tr>\n",
       "<tr>\n",
       "  <th>Genre1_Drama</th>           <td>0.1112</td>   <td>0.0407</td>  <td>2.7336</td>  <td>0.0064</td> <td>0.0313</td>  <td>0.1910</td> \n",
       "</tr>\n",
       "<tr>\n",
       "  <th>Genre1_Comedy</th>          <td>0.0082</td>   <td>0.0513</td>  <td>0.1599</td>  <td>0.8730</td> <td>-0.0925</td> <td>0.1089</td> \n",
       "</tr>\n",
       "<tr>\n",
       "  <th>Certificate_R</th>          <td>0.0645</td>   <td>0.0478</td>  <td>1.3512</td>  <td>0.1770</td> <td>-0.0292</td> <td>0.1583</td> \n",
       "</tr>\n",
       "<tr>\n",
       "  <th>Certificate_PG</th>         <td>0.0086</td>   <td>0.0557</td>  <td>0.1550</td>  <td>0.8769</td> <td>-0.1007</td> <td>0.1180</td> \n",
       "</tr>\n",
       "<tr>\n",
       "  <th>Certificate_PG-13</th>      <td>0.0195</td>   <td>0.0564</td>  <td>0.3468</td>  <td>0.7288</td> <td>-0.0911</td> <td>0.1302</td> \n",
       "</tr>\n",
       "<tr>\n",
       "  <th>Country_United States</th>  <td>-0.0048</td>  <td>0.0509</td>  <td>-0.0941</td> <td>0.9250</td> <td>-0.1046</td> <td>0.0950</td> \n",
       "</tr>\n",
       "<tr>\n",
       "  <th>Country_United Kingdom</th> <td>-0.0979</td>  <td>0.0688</td>  <td>-1.4237</td> <td>0.1549</td> <td>-0.2328</td> <td>0.0371</td> \n",
       "</tr>\n",
       "<tr>\n",
       "  <th>Country_Germany</th>        <td>-0.1141</td>  <td>0.0803</td>  <td>-1.4212</td> <td>0.1556</td> <td>-0.2717</td> <td>0.0435</td> \n",
       "</tr>\n",
       "<tr>\n",
       "  <th>Country_France</th>         <td>-0.1377</td>  <td>0.0859</td>  <td>-1.6036</td> <td>0.1092</td> <td>-0.3064</td> <td>0.0309</td> \n",
       "</tr>\n",
       "<tr>\n",
       "  <th>Country_Japan</th>          <td>0.0403</td>   <td>0.0936</td>  <td>0.4300</td>  <td>0.6673</td> <td>-0.1435</td> <td>0.2241</td> \n",
       "</tr>\n",
       "<tr>\n",
       "  <th>Country_Canada</th>         <td>-0.0484</td>  <td>0.1064</td>  <td>-0.4553</td> <td>0.6490</td> <td>-0.2573</td> <td>0.1604</td> \n",
       "</tr>\n",
       "<tr>\n",
       "  <th>Genre1_Adventure</th>       <td>0.0930</td>   <td>0.0613</td>  <td>1.5164</td>  <td>0.1298</td> <td>-0.0274</td> <td>0.2133</td> \n",
       "</tr>\n",
       "<tr>\n",
       "  <th>Genre1_Action</th>          <td>-0.0046</td>  <td>0.0612</td>  <td>-0.0757</td> <td>0.9397</td> <td>-0.1247</td> <td>0.1155</td> \n",
       "</tr>\n",
       "<tr>\n",
       "  <th>Genre1_Crime</th>           <td>0.0907</td>   <td>0.0657</td>  <td>1.3805</td>  <td>0.1678</td> <td>-0.0383</td> <td>0.2196</td> \n",
       "</tr>\n",
       "<tr>\n",
       "  <th>Genre1_Horror</th>          <td>0.0301</td>   <td>0.0862</td>  <td>0.3498</td>  <td>0.7266</td> <td>-0.1390</td> <td>0.1993</td> \n",
       "</tr>\n",
       "<tr>\n",
       "  <th>constant</th>               <td>7.2342</td>   <td>0.0760</td>  <td>95.1983</td> <td>0.0000</td> <td>7.0850</td>  <td>7.3833</td> \n",
       "</tr>\n",
       "</table>\n",
       "<table class=\"simpletable\">\n",
       "<tr>\n",
       "     <td>Omnibus:</td>    <td>43.883</td>  <td>Durbin-Watson:</td>    <td>1.825</td>\n",
       "</tr>\n",
       "<tr>\n",
       "  <td>Prob(Omnibus):</td>  <td>0.000</td> <td>Jarque-Bera (JB):</td> <td>49.664</td>\n",
       "</tr>\n",
       "<tr>\n",
       "       <td>Skew:</td>      <td>0.580</td>     <td>Prob(JB):</td>      <td>0.000</td>\n",
       "</tr>\n",
       "<tr>\n",
       "     <td>Kurtosis:</td>    <td>3.345</td>  <td>Condition No.:</td>     <td>342</td> \n",
       "</tr>\n",
       "</table>"
      ],
      "text/plain": [
       "<class 'statsmodels.iolib.summary2.Summary'>\n",
       "\"\"\"\n",
       "                   Results: Ordinary least squares\n",
       "======================================================================\n",
       "Model:                 OLS               Adj. R-squared:      0.167   \n",
       "Dependent Variable:    Rating            AIC:                 891.4343\n",
       "Date:                  2021-10-03 17:03  BIC:                 985.4489\n",
       "No. Observations:      813               Log-Likelihood:      -425.72 \n",
       "Df Model:              19                F-statistic:         9.546   \n",
       "Df Residuals:          793               Prob (F-statistic):  2.63e-25\n",
       "R-squared:             0.186             Scale:               0.17107 \n",
       "----------------------------------------------------------------------\n",
       "                        Coef.  Std.Err.    t    P>|t|   [0.025  0.975]\n",
       "----------------------------------------------------------------------\n",
       "Runtime                 0.8183   0.1105  7.4044 0.0000  0.6013  1.0352\n",
       "Release Year            0.0071   0.0010  6.9840 0.0000  0.0051  0.0091\n",
       "Language_English       -0.1659   0.0641 -2.5900 0.0098 -0.2916 -0.0402\n",
       "Language_French        -0.1793   0.1037 -1.7300 0.0840 -0.3828  0.0242\n",
       "Genre1_Drama            0.1112   0.0407  2.7336 0.0064  0.0313  0.1910\n",
       "Genre1_Comedy           0.0082   0.0513  0.1599 0.8730 -0.0925  0.1089\n",
       "Certificate_R           0.0645   0.0478  1.3512 0.1770 -0.0292  0.1583\n",
       "Certificate_PG          0.0086   0.0557  0.1550 0.8769 -0.1007  0.1180\n",
       "Certificate_PG-13       0.0195   0.0564  0.3468 0.7288 -0.0911  0.1302\n",
       "Country_United States  -0.0048   0.0509 -0.0941 0.9250 -0.1046  0.0950\n",
       "Country_United Kingdom -0.0979   0.0688 -1.4237 0.1549 -0.2328  0.0371\n",
       "Country_Germany        -0.1141   0.0803 -1.4212 0.1556 -0.2717  0.0435\n",
       "Country_France         -0.1377   0.0859 -1.6036 0.1092 -0.3064  0.0309\n",
       "Country_Japan           0.0403   0.0936  0.4300 0.6673 -0.1435  0.2241\n",
       "Country_Canada         -0.0484   0.1064 -0.4553 0.6490 -0.2573  0.1604\n",
       "Genre1_Adventure        0.0930   0.0613  1.5164 0.1298 -0.0274  0.2133\n",
       "Genre1_Action          -0.0046   0.0612 -0.0757 0.9397 -0.1247  0.1155\n",
       "Genre1_Crime            0.0907   0.0657  1.3805 0.1678 -0.0383  0.2196\n",
       "Genre1_Horror           0.0301   0.0862  0.3498 0.7266 -0.1390  0.1993\n",
       "constant                7.2342   0.0760 95.1983 0.0000  7.0850  7.3833\n",
       "----------------------------------------------------------------------\n",
       "Omnibus:               43.883         Durbin-Watson:            1.825 \n",
       "Prob(Omnibus):         0.000          Jarque-Bera (JB):         49.664\n",
       "Skew:                  0.580          Prob(JB):                 0.000 \n",
       "Kurtosis:              3.345          Condition No.:            342   \n",
       "======================================================================\n",
       "\n",
       "\"\"\""
      ]
     },
     "execution_count": 16,
     "metadata": {},
     "output_type": "execute_result"
    }
   ],
   "source": [
    "fii.summary2()"
   ]
  },
  {
   "cell_type": "code",
   "execution_count": 17,
   "metadata": {},
   "outputs": [],
   "source": [
    "p_value = pd.DataFrame(fii.summary2().tables[1]['P>|t|'])"
   ]
  },
  {
   "cell_type": "code",
   "execution_count": 18,
   "metadata": {},
   "outputs": [],
   "source": [
    "p_value.reset_index(inplace=True)\n"
   ]
  },
  {
   "cell_type": "code",
   "execution_count": 19,
   "metadata": {},
   "outputs": [],
   "source": [
    "p_value.rename(columns={'P>|t|':'p_value'},inplace=True)"
   ]
  },
  {
   "cell_type": "code",
   "execution_count": 20,
   "metadata": {},
   "outputs": [],
   "source": [
    "p_value = p_value[p_value[\"p_value\"]<0.05].copy()"
   ]
  },
  {
   "cell_type": "code",
   "execution_count": 21,
   "metadata": {},
   "outputs": [],
   "source": [
    "co_ef = pd.DataFrame(fii.summary2().tables[1]['Coef.'])"
   ]
  },
  {
   "cell_type": "code",
   "execution_count": 22,
   "metadata": {},
   "outputs": [],
   "source": [
    "co_ef.reset_index(inplace=True)"
   ]
  },
  {
   "cell_type": "code",
   "execution_count": 23,
   "metadata": {},
   "outputs": [],
   "source": [
    "final_matrix = p_value.merge(co_ef,how=\"inner\",on=\"index\")"
   ]
  },
  {
   "cell_type": "markdown",
   "metadata": {},
   "source": [
    "# P_values with significant variables"
   ]
  },
  {
   "cell_type": "code",
   "execution_count": 24,
   "metadata": {
    "scrolled": false
   },
   "outputs": [
    {
     "data": {
      "text/html": [
       "<div>\n",
       "<style scoped>\n",
       "    .dataframe tbody tr th:only-of-type {\n",
       "        vertical-align: middle;\n",
       "    }\n",
       "\n",
       "    .dataframe tbody tr th {\n",
       "        vertical-align: top;\n",
       "    }\n",
       "\n",
       "    .dataframe thead th {\n",
       "        text-align: right;\n",
       "    }\n",
       "</style>\n",
       "<table border=\"1\" class=\"dataframe\">\n",
       "  <thead>\n",
       "    <tr style=\"text-align: right;\">\n",
       "      <th></th>\n",
       "      <th>index</th>\n",
       "      <th>p_value</th>\n",
       "      <th>Coef.</th>\n",
       "    </tr>\n",
       "  </thead>\n",
       "  <tbody>\n",
       "    <tr>\n",
       "      <th>0</th>\n",
       "      <td>Runtime</td>\n",
       "      <td>3.369832e-13</td>\n",
       "      <td>0.818271</td>\n",
       "    </tr>\n",
       "    <tr>\n",
       "      <th>1</th>\n",
       "      <td>Release Year</td>\n",
       "      <td>6.073147e-12</td>\n",
       "      <td>0.007126</td>\n",
       "    </tr>\n",
       "    <tr>\n",
       "      <th>2</th>\n",
       "      <td>Language_English</td>\n",
       "      <td>9.774191e-03</td>\n",
       "      <td>-0.165890</td>\n",
       "    </tr>\n",
       "    <tr>\n",
       "      <th>3</th>\n",
       "      <td>Genre1_Drama</td>\n",
       "      <td>6.404490e-03</td>\n",
       "      <td>0.111172</td>\n",
       "    </tr>\n",
       "    <tr>\n",
       "      <th>4</th>\n",
       "      <td>constant</td>\n",
       "      <td>0.000000e+00</td>\n",
       "      <td>7.234169</td>\n",
       "    </tr>\n",
       "  </tbody>\n",
       "</table>\n",
       "</div>"
      ],
      "text/plain": [
       "              index       p_value     Coef.\n",
       "0           Runtime  3.369832e-13  0.818271\n",
       "1      Release Year  6.073147e-12  0.007126\n",
       "2  Language_English  9.774191e-03 -0.165890\n",
       "3      Genre1_Drama  6.404490e-03  0.111172\n",
       "4          constant  0.000000e+00  7.234169"
      ]
     },
     "execution_count": 24,
     "metadata": {},
     "output_type": "execute_result"
    }
   ],
   "source": [
    "final_matrix"
   ]
  },
  {
   "cell_type": "code",
   "execution_count": 25,
   "metadata": {},
   "outputs": [],
   "source": [
    "model_dataframe=[]\n",
    "model_dataframe = pd.DataFrame(model_dataframe)"
   ]
  },
  {
   "cell_type": "code",
   "execution_count": 26,
   "metadata": {},
   "outputs": [],
   "source": [
    "model_dataframe[\"variables\"] = final_matrix[\"index\"]\n",
    "model_dataframe[\"Coef\"] = final_matrix[\"Coef.\"]"
   ]
  },
  {
   "cell_type": "code",
   "execution_count": 27,
   "metadata": {},
   "outputs": [
    {
     "data": {
      "text/html": [
       "<div>\n",
       "<style scoped>\n",
       "    .dataframe tbody tr th:only-of-type {\n",
       "        vertical-align: middle;\n",
       "    }\n",
       "\n",
       "    .dataframe tbody tr th {\n",
       "        vertical-align: top;\n",
       "    }\n",
       "\n",
       "    .dataframe thead th {\n",
       "        text-align: right;\n",
       "    }\n",
       "</style>\n",
       "<table border=\"1\" class=\"dataframe\">\n",
       "  <thead>\n",
       "    <tr style=\"text-align: right;\">\n",
       "      <th></th>\n",
       "      <th>variables</th>\n",
       "      <th>Coef</th>\n",
       "    </tr>\n",
       "  </thead>\n",
       "  <tbody>\n",
       "    <tr>\n",
       "      <th>0</th>\n",
       "      <td>Runtime</td>\n",
       "      <td>0.818271</td>\n",
       "    </tr>\n",
       "    <tr>\n",
       "      <th>1</th>\n",
       "      <td>Release Year</td>\n",
       "      <td>0.007126</td>\n",
       "    </tr>\n",
       "    <tr>\n",
       "      <th>2</th>\n",
       "      <td>Language_English</td>\n",
       "      <td>-0.165890</td>\n",
       "    </tr>\n",
       "    <tr>\n",
       "      <th>3</th>\n",
       "      <td>Genre1_Drama</td>\n",
       "      <td>0.111172</td>\n",
       "    </tr>\n",
       "    <tr>\n",
       "      <th>4</th>\n",
       "      <td>constant</td>\n",
       "      <td>7.234169</td>\n",
       "    </tr>\n",
       "  </tbody>\n",
       "</table>\n",
       "</div>"
      ],
      "text/plain": [
       "          variables      Coef\n",
       "0           Runtime  0.818271\n",
       "1      Release Year  0.007126\n",
       "2  Language_English -0.165890\n",
       "3      Genre1_Drama  0.111172\n",
       "4          constant  7.234169"
      ]
     },
     "execution_count": 27,
     "metadata": {},
     "output_type": "execute_result"
    }
   ],
   "source": [
    "model_dataframe"
   ]
  },
  {
   "cell_type": "markdown",
   "metadata": {},
   "source": [
    "# Plotting graph"
   ]
  },
  {
   "cell_type": "code",
   "execution_count": 28,
   "metadata": {},
   "outputs": [],
   "source": [
    "sns.set_style(\"whitegrid\")"
   ]
  },
  {
   "cell_type": "code",
   "execution_count": 29,
   "metadata": {},
   "outputs": [
    {
     "data": {
      "text/plain": [
       "<seaborn.axisgrid.FacetGrid at 0x17ee05f39a0>"
      ]
     },
     "execution_count": 29,
     "metadata": {},
     "output_type": "execute_result"
    },
    {
     "data": {
      "image/png": "[encoded data removed]",
      "text/plain": [
       "<Figure size 864x432 with 1 Axes>"
      ]
     },
     "metadata": {},
     "output_type": "display_data"
    }
   ],
   "source": [
    "sns.catplot(x=\"Coef\", y='variables', height=6,aspect=2    ,kind='bar', data=model_dataframe[model_dataframe['variables']!='constant'])"
   ]
  },
  {
   "cell_type": "markdown",
   "metadata": {},
   "source": [
    "# Making model with actors and directors"
   ]
  },
  {
   "cell_type": "code",
   "execution_count": 30,
   "metadata": {},
   "outputs": [],
   "source": [
    "data = pd.read_csv(\"Data.csv\")"
   ]
  },
  {
   "cell_type": "code",
   "execution_count": 31,
   "metadata": {},
   "outputs": [],
   "source": [
    "data_credits = pd.read_csv(\"credits.csv\")"
   ]
  },
  {
   "cell_type": "code",
   "execution_count": 32,
   "metadata": {},
   "outputs": [],
   "source": [
    "data_movies_metadata = pd.read_csv(\"movies_metadata.csv\")"
   ]
  },
  {
   "cell_type": "code",
   "execution_count": 33,
   "metadata": {},
   "outputs": [],
   "source": [
    "data_movies_metadata.drop_duplicates(subset=\"id\",inplace=True,ignore_index=True)"
   ]
  },
  {
   "cell_type": "code",
   "execution_count": 34,
   "metadata": {},
   "outputs": [],
   "source": [
    "data_credits.drop_duplicates(subset=\"id\",inplace=True,ignore_index=True)"
   ]
  },
  {
   "cell_type": "code",
   "execution_count": 35,
   "metadata": {},
   "outputs": [],
   "source": [
    "data.drop_duplicates(subset=\"IMDB_id\",ignore_index=True,inplace=True)"
   ]
  },
  {
   "cell_type": "code",
   "execution_count": 36,
   "metadata": {},
   "outputs": [],
   "source": [
    "data_movies_metadata = data_movies_metadata[data_movies_metadata[\"imdb_id\"]!=\"0\"]"
   ]
  },
  {
   "cell_type": "code",
   "execution_count": 37,
   "metadata": {},
   "outputs": [],
   "source": [
    "data_model = data.merge(data_movies_metadata[[\"imdb_id\",\"id\"]],how=\"inner\",left_on=\"IMDB_id\",right_on=\"imdb_id\")"
   ]
  },
  {
   "cell_type": "code",
   "execution_count": 38,
   "metadata": {},
   "outputs": [],
   "source": [
    "data_model.drop(\"imdb_id\",axis=1,inplace=True)"
   ]
  },
  {
   "cell_type": "code",
   "execution_count": 39,
   "metadata": {},
   "outputs": [],
   "source": [
    "data_credits[\"id\"] = data_credits[\"id\"].astype(\"str\")"
   ]
  },
  {
   "cell_type": "code",
   "execution_count": 40,
   "metadata": {},
   "outputs": [],
   "source": [
    "model_data = data_model.merge(data_credits,how = \"inner\",on=\"id\")"
   ]
  },
  {
   "cell_type": "markdown",
   "metadata": {},
   "source": [
    "# getting director\n"
   ]
  },
  {
   "cell_type": "code",
   "execution_count": 41,
   "metadata": {},
   "outputs": [],
   "source": [
    "model_data[\"crew\"] = model_data[\"crew\"].apply(literal_eval)"
   ]
  },
  {
   "cell_type": "code",
   "execution_count": 42,
   "metadata": {},
   "outputs": [],
   "source": [
    "def get_director(a):\n",
    "    for i in a:\n",
    "        try:\n",
    "            if i[\"job\"] == \"Director\":\n",
    "                return i[\"name\"]\n",
    "        except:\n",
    "            return np.nan\n",
    "        "
   ]
  },
  {
   "cell_type": "code",
   "execution_count": 43,
   "metadata": {},
   "outputs": [
    {
     "data": {
      "text/plain": [
       "0        John Lasseter\n",
       "1         Joe Johnston\n",
       "2         Michael Mann\n",
       "3      Martin Campbell\n",
       "4      Martin Scorsese\n",
       "            ...       \n",
       "807       Joseph Losey\n",
       "808    Dzhanik Fayziev\n",
       "809    Takashi Koizumi\n",
       "810          Pan Nalin\n",
       "811        Kunal Kohli\n",
       "Name: crew, Length: 812, dtype: object"
      ]
     },
     "execution_count": 43,
     "metadata": {},
     "output_type": "execute_result"
    }
   ],
   "source": [
    "temp_director = model_data[\"crew\"].apply(get_director)\n",
    "temp_director"
   ]
  },
  {
   "cell_type": "code",
   "execution_count": 44,
   "metadata": {},
   "outputs": [],
   "source": [
    "director_name = pd.DataFrame(temp_director)"
   ]
  },
  {
   "cell_type": "code",
   "execution_count": 45,
   "metadata": {},
   "outputs": [],
   "source": [
    "director_name = director_name.rename(columns={\"crew\":\"Director\"})"
   ]
  },
  {
   "cell_type": "code",
   "execution_count": 46,
   "metadata": {},
   "outputs": [],
   "source": [
    "model_data[\"Director\"] = director_name[\"Director\"]"
   ]
  },
  {
   "cell_type": "markdown",
   "metadata": {},
   "source": [
    "# Getting Actors"
   ]
  },
  {
   "cell_type": "code",
   "execution_count": 47,
   "metadata": {},
   "outputs": [],
   "source": [
    "model_data[\"cast\"] = model_data[\"cast\"].apply(literal_eval)"
   ]
  },
  {
   "cell_type": "code",
   "execution_count": 48,
   "metadata": {},
   "outputs": [],
   "source": [
    "def get_actor(a):\n",
    "    \n",
    "    Actor1 = []\n",
    "    try:\n",
    "        Actor1.append(a[0][\"name\"])\n",
    "    except:\n",
    "        Actor1.append(np.nan)\n",
    "    try:\n",
    "        Actor1.append(a[1][\"name\"])\n",
    "    except:\n",
    "        Actor1.append(np.nan)\n",
    "    try:\n",
    "        Actor1.append(a[2][\"name\"])\n",
    "    except:\n",
    "        Actor1.append(np.nan)\n",
    "    return Actor1"
   ]
  },
  {
   "cell_type": "code",
   "execution_count": 49,
   "metadata": {},
   "outputs": [],
   "source": [
    "temp_actor = model_data[\"cast\"].apply(get_actor)"
   ]
  },
  {
   "cell_type": "code",
   "execution_count": 50,
   "metadata": {},
   "outputs": [],
   "source": [
    "temp_actor = pd.DataFrame(temp_actor)"
   ]
  },
  {
   "cell_type": "code",
   "execution_count": 51,
   "metadata": {},
   "outputs": [],
   "source": [
    "Actor_name = pd.DataFrame(temp_actor[\"cast\"].to_list(),columns = [\"Actor1\",\"Actor2\",\"Actor3\"])\n",
    "model_data[\"Actor1\"]= Actor_name[\"Actor1\"]\n",
    "model_data[\"Actor2\"]= Actor_name[\"Actor2\"]\n",
    "model_data[\"Actor3\"]= Actor_name[\"Actor3\"]"
   ]
  },
  {
   "cell_type": "code",
   "execution_count": 52,
   "metadata": {},
   "outputs": [],
   "source": [
    "actor1_df = pd.DataFrame(model_data[\"Actor1\"].value_counts()).reset_index()"
   ]
  },
  {
   "cell_type": "code",
   "execution_count": 53,
   "metadata": {},
   "outputs": [],
   "source": [
    "actor2_df = pd.DataFrame(model_data[\"Actor2\"].value_counts()).reset_index()\n",
    "actor3_df= pd.DataFrame(model_data[\"Actor3\"].value_counts()).reset_index()"
   ]
  },
  {
   "cell_type": "code",
   "execution_count": 54,
   "metadata": {},
   "outputs": [],
   "source": [
    "actors = actor1_df.merge(actor2_df,how=\"outer\",on=\"index\")"
   ]
  },
  {
   "cell_type": "code",
   "execution_count": 55,
   "metadata": {},
   "outputs": [],
   "source": [
    "actors = actors.merge(actor3_df,how=\"outer\",on=\"index\")"
   ]
  },
  {
   "cell_type": "code",
   "execution_count": 56,
   "metadata": {},
   "outputs": [],
   "source": [
    "actors.fillna(0,inplace=True)"
   ]
  },
  {
   "cell_type": "code",
   "execution_count": 57,
   "metadata": {},
   "outputs": [],
   "source": [
    "actors[\"counts\"] = actors[\"Actor1\"] + actors[\"Actor2\"] +actors[\"Actor3\"] "
   ]
  },
  {
   "cell_type": "code",
   "execution_count": 58,
   "metadata": {},
   "outputs": [],
   "source": [
    "actors.drop([\"Actor1\",\"Actor2\",\"Actor3\"],axis = 1, inplace=True)\n"
   ]
  },
  {
   "cell_type": "code",
   "execution_count": 59,
   "metadata": {},
   "outputs": [],
   "source": [
    "actors.sort_values(\"counts\",ascending=False,ignore_index=True,inplace=True)"
   ]
  },
  {
   "cell_type": "code",
   "execution_count": 60,
   "metadata": {},
   "outputs": [],
   "source": [
    "top_5_act=list(actors.iloc[:5,0])"
   ]
  },
  {
   "cell_type": "code",
   "execution_count": 61,
   "metadata": {},
   "outputs": [],
   "source": [
    "def act(a,b,c,d):\n",
    "    d={i:[] for i in d}\n",
    "    for i in d:\n",
    "        for j,k,l in zip(a,b,c):\n",
    "            if(i in [j,k,l]):\n",
    "                d[i].append(1)\n",
    "            else:\n",
    "                d[i].append(0)\n",
    "    return d\n",
    "\n",
    "temp_dict=act(list(model_data['Actor1']),list(model_data['Actor2']),list(model_data['Actor3']),top_5_act)\n",
    "dummy_actor=pd.DataFrame(temp_dict)\n",
    "model_data=model_data.join(dummy_actor)"
   ]
  },
  {
   "cell_type": "code",
   "execution_count": 62,
   "metadata": {},
   "outputs": [],
   "source": [
    "top_5_direc=list(model_data['Director'].value_counts().index[:5])"
   ]
  },
  {
   "cell_type": "code",
   "execution_count": 63,
   "metadata": {},
   "outputs": [],
   "source": [
    "def direc(a,d):\n",
    "    d={i:[] for i in d}\n",
    "    for i in d:\n",
    "        for j in a:\n",
    "            if(i==j):\n",
    "                d[i].append(1)\n",
    "            else:\n",
    "                d[i].append(0)\n",
    "    return d\n",
    "\n",
    "temp_dict=direc(list(model_data['Director']),top_5_direc)\n",
    "dummy_direc=pd.DataFrame(temp_dict)\n",
    "model_data=model_data.join(dummy_direc)"
   ]
  },
  {
   "cell_type": "markdown",
   "metadata": {},
   "source": [
    "# model preparation# "
   ]
  },
  {
   "cell_type": "code",
   "execution_count": 64,
   "metadata": {},
   "outputs": [],
   "source": [
    "b=model_data[['Rating','Robert De Niro',\n",
    "'Brad Pitt',\n",
    "'Johnny Depp',\n",
    "'Tom Hanks',\n",
    "'Tom Cruise',\n",
    "'Alfred Hitchcock',\n",
    "'Steven Spielberg',\n",
    "'Stanley Kubrick',\n",
    "'Tim Burton',\n",
    "'Martin Scorsese']].copy()"
   ]
  },
  {
   "cell_type": "code",
   "execution_count": 65,
   "metadata": {},
   "outputs": [],
   "source": [
    "mod = sm.OLS(b[\"Rating\"],b.drop(\"Rating\",axis=1))\n",
    "\n",
    "fii = mod.fit()\n",
    "\n",
    "p_values = fii.summary2().tables[1]['P>|t|']"
   ]
  },
  {
   "cell_type": "code",
   "execution_count": 66,
   "metadata": {},
   "outputs": [
    {
     "data": {
      "text/html": [
       "<div>\n",
       "<style scoped>\n",
       "    .dataframe tbody tr th:only-of-type {\n",
       "        vertical-align: middle;\n",
       "    }\n",
       "\n",
       "    .dataframe tbody tr th {\n",
       "        vertical-align: top;\n",
       "    }\n",
       "\n",
       "    .dataframe thead th {\n",
       "        text-align: right;\n",
       "    }\n",
       "</style>\n",
       "<table border=\"1\" class=\"dataframe\">\n",
       "  <thead>\n",
       "    <tr style=\"text-align: right;\">\n",
       "      <th></th>\n",
       "      <th>P&gt;|t|</th>\n",
       "    </tr>\n",
       "  </thead>\n",
       "  <tbody>\n",
       "    <tr>\n",
       "      <th>Robert De Niro</th>\n",
       "      <td>0.002943</td>\n",
       "    </tr>\n",
       "    <tr>\n",
       "      <th>Brad Pitt</th>\n",
       "      <td>0.000245</td>\n",
       "    </tr>\n",
       "    <tr>\n",
       "      <th>Johnny Depp</th>\n",
       "      <td>0.004575</td>\n",
       "    </tr>\n",
       "    <tr>\n",
       "      <th>Tom Hanks</th>\n",
       "      <td>0.009816</td>\n",
       "    </tr>\n",
       "    <tr>\n",
       "      <th>Tom Cruise</th>\n",
       "      <td>0.018559</td>\n",
       "    </tr>\n",
       "    <tr>\n",
       "      <th>Alfred Hitchcock</th>\n",
       "      <td>0.000013</td>\n",
       "    </tr>\n",
       "    <tr>\n",
       "      <th>Steven Spielberg</th>\n",
       "      <td>0.001002</td>\n",
       "    </tr>\n",
       "    <tr>\n",
       "      <th>Stanley Kubrick</th>\n",
       "      <td>0.000475</td>\n",
       "    </tr>\n",
       "    <tr>\n",
       "      <th>Tim Burton</th>\n",
       "      <td>0.063226</td>\n",
       "    </tr>\n",
       "    <tr>\n",
       "      <th>Martin Scorsese</th>\n",
       "      <td>0.255121</td>\n",
       "    </tr>\n",
       "  </tbody>\n",
       "</table>\n",
       "</div>"
      ],
      "text/plain": [
       "                     P>|t|\n",
       "Robert De Niro    0.002943\n",
       "Brad Pitt         0.000245\n",
       "Johnny Depp       0.004575\n",
       "Tom Hanks         0.009816\n",
       "Tom Cruise        0.018559\n",
       "Alfred Hitchcock  0.000013\n",
       "Steven Spielberg  0.001002\n",
       "Stanley Kubrick   0.000475\n",
       "Tim Burton        0.063226\n",
       "Martin Scorsese   0.255121"
      ]
     },
     "execution_count": 66,
     "metadata": {},
     "output_type": "execute_result"
    }
   ],
   "source": [
    "p_value = pd.DataFrame(fii.summary2().tables[1]['P>|t|'])\n",
    "p_value"
   ]
  },
  {
   "cell_type": "code",
   "execution_count": 67,
   "metadata": {},
   "outputs": [],
   "source": [
    "p_value.reset_index(inplace=True)\n"
   ]
  },
  {
   "cell_type": "code",
   "execution_count": 68,
   "metadata": {},
   "outputs": [],
   "source": [
    "p_value.rename(columns={'P>|t|':'p_value'},inplace=True)"
   ]
  },
  {
   "cell_type": "code",
   "execution_count": 69,
   "metadata": {},
   "outputs": [],
   "source": [
    "p_value = p_value[p_value[\"p_value\"]<0.05].copy()"
   ]
  },
  {
   "cell_type": "code",
   "execution_count": 70,
   "metadata": {},
   "outputs": [],
   "source": [
    "co_ef = pd.DataFrame(fii.summary2().tables[1]['Coef.'])"
   ]
  },
  {
   "cell_type": "code",
   "execution_count": 71,
   "metadata": {},
   "outputs": [],
   "source": [
    "co_ef.reset_index(inplace=True)"
   ]
  },
  {
   "cell_type": "code",
   "execution_count": 72,
   "metadata": {},
   "outputs": [],
   "source": [
    "final_matrix = p_value.merge(co_ef,how=\"inner\",on=\"index\")"
   ]
  },
  {
   "cell_type": "code",
   "execution_count": 73,
   "metadata": {},
   "outputs": [
    {
     "data": {
      "text/html": [
       "<div>\n",
       "<style scoped>\n",
       "    .dataframe tbody tr th:only-of-type {\n",
       "        vertical-align: middle;\n",
       "    }\n",
       "\n",
       "    .dataframe tbody tr th {\n",
       "        vertical-align: top;\n",
       "    }\n",
       "\n",
       "    .dataframe thead th {\n",
       "        text-align: right;\n",
       "    }\n",
       "</style>\n",
       "<table border=\"1\" class=\"dataframe\">\n",
       "  <thead>\n",
       "    <tr style=\"text-align: right;\">\n",
       "      <th></th>\n",
       "      <th>index</th>\n",
       "      <th>p_value</th>\n",
       "      <th>Coef.</th>\n",
       "    </tr>\n",
       "  </thead>\n",
       "  <tbody>\n",
       "    <tr>\n",
       "      <th>0</th>\n",
       "      <td>Robert De Niro</td>\n",
       "      <td>0.002943</td>\n",
       "      <td>6.042005</td>\n",
       "    </tr>\n",
       "    <tr>\n",
       "      <th>1</th>\n",
       "      <td>Brad Pitt</td>\n",
       "      <td>0.000245</td>\n",
       "      <td>6.850378</td>\n",
       "    </tr>\n",
       "    <tr>\n",
       "      <th>2</th>\n",
       "      <td>Johnny Depp</td>\n",
       "      <td>0.004575</td>\n",
       "      <td>6.076238</td>\n",
       "    </tr>\n",
       "    <tr>\n",
       "      <th>3</th>\n",
       "      <td>Tom Hanks</td>\n",
       "      <td>0.009816</td>\n",
       "      <td>6.044730</td>\n",
       "    </tr>\n",
       "    <tr>\n",
       "      <th>4</th>\n",
       "      <td>Tom Cruise</td>\n",
       "      <td>0.018559</td>\n",
       "      <td>5.402318</td>\n",
       "    </tr>\n",
       "    <tr>\n",
       "      <th>5</th>\n",
       "      <td>Alfred Hitchcock</td>\n",
       "      <td>0.000013</td>\n",
       "      <td>7.843750</td>\n",
       "    </tr>\n",
       "    <tr>\n",
       "      <th>6</th>\n",
       "      <td>Steven Spielberg</td>\n",
       "      <td>0.001002</td>\n",
       "      <td>6.317566</td>\n",
       "    </tr>\n",
       "    <tr>\n",
       "      <th>7</th>\n",
       "      <td>Stanley Kubrick</td>\n",
       "      <td>0.000475</td>\n",
       "      <td>7.608880</td>\n",
       "    </tr>\n",
       "  </tbody>\n",
       "</table>\n",
       "</div>"
      ],
      "text/plain": [
       "              index   p_value     Coef.\n",
       "0    Robert De Niro  0.002943  6.042005\n",
       "1         Brad Pitt  0.000245  6.850378\n",
       "2       Johnny Depp  0.004575  6.076238\n",
       "3         Tom Hanks  0.009816  6.044730\n",
       "4        Tom Cruise  0.018559  5.402318\n",
       "5  Alfred Hitchcock  0.000013  7.843750\n",
       "6  Steven Spielberg  0.001002  6.317566\n",
       "7   Stanley Kubrick  0.000475  7.608880"
      ]
     },
     "execution_count": 73,
     "metadata": {},
     "output_type": "execute_result"
    }
   ],
   "source": [
    "final_matrix"
   ]
  },
  {
   "cell_type": "code",
   "execution_count": 74,
   "metadata": {},
   "outputs": [],
   "source": [
    "Actors_dataframe = []"
   ]
  },
  {
   "cell_type": "code",
   "execution_count": 75,
   "metadata": {},
   "outputs": [],
   "source": [
    "Actors_dataframe = pd.DataFrame(Actors_dataframe)"
   ]
  },
  {
   "cell_type": "code",
   "execution_count": 76,
   "metadata": {},
   "outputs": [],
   "source": [
    "Actors_dataframe[\"Actor_name\"] = final_matrix[\"index\"]"
   ]
  },
  {
   "cell_type": "code",
   "execution_count": 77,
   "metadata": {},
   "outputs": [],
   "source": [
    "Actors_dataframe[\"Coef\"] = final_matrix[\"Coef.\"]-5"
   ]
  },
  {
   "cell_type": "code",
   "execution_count": 78,
   "metadata": {},
   "outputs": [
    {
     "data": {
      "text/html": [
       "<div>\n",
       "<style scoped>\n",
       "    .dataframe tbody tr th:only-of-type {\n",
       "        vertical-align: middle;\n",
       "    }\n",
       "\n",
       "    .dataframe tbody tr th {\n",
       "        vertical-align: top;\n",
       "    }\n",
       "\n",
       "    .dataframe thead th {\n",
       "        text-align: right;\n",
       "    }\n",
       "</style>\n",
       "<table border=\"1\" class=\"dataframe\">\n",
       "  <thead>\n",
       "    <tr style=\"text-align: right;\">\n",
       "      <th></th>\n",
       "      <th>Actor_name</th>\n",
       "      <th>Coef</th>\n",
       "    </tr>\n",
       "  </thead>\n",
       "  <tbody>\n",
       "    <tr>\n",
       "      <th>0</th>\n",
       "      <td>Robert De Niro</td>\n",
       "      <td>1.042005</td>\n",
       "    </tr>\n",
       "    <tr>\n",
       "      <th>1</th>\n",
       "      <td>Brad Pitt</td>\n",
       "      <td>1.850378</td>\n",
       "    </tr>\n",
       "    <tr>\n",
       "      <th>2</th>\n",
       "      <td>Johnny Depp</td>\n",
       "      <td>1.076238</td>\n",
       "    </tr>\n",
       "    <tr>\n",
       "      <th>3</th>\n",
       "      <td>Tom Hanks</td>\n",
       "      <td>1.044730</td>\n",
       "    </tr>\n",
       "    <tr>\n",
       "      <th>4</th>\n",
       "      <td>Tom Cruise</td>\n",
       "      <td>0.402318</td>\n",
       "    </tr>\n",
       "    <tr>\n",
       "      <th>5</th>\n",
       "      <td>Alfred Hitchcock</td>\n",
       "      <td>2.843750</td>\n",
       "    </tr>\n",
       "    <tr>\n",
       "      <th>6</th>\n",
       "      <td>Steven Spielberg</td>\n",
       "      <td>1.317566</td>\n",
       "    </tr>\n",
       "    <tr>\n",
       "      <th>7</th>\n",
       "      <td>Stanley Kubrick</td>\n",
       "      <td>2.608880</td>\n",
       "    </tr>\n",
       "  </tbody>\n",
       "</table>\n",
       "</div>"
      ],
      "text/plain": [
       "         Actor_name      Coef\n",
       "0    Robert De Niro  1.042005\n",
       "1         Brad Pitt  1.850378\n",
       "2       Johnny Depp  1.076238\n",
       "3         Tom Hanks  1.044730\n",
       "4        Tom Cruise  0.402318\n",
       "5  Alfred Hitchcock  2.843750\n",
       "6  Steven Spielberg  1.317566\n",
       "7   Stanley Kubrick  2.608880"
      ]
     },
     "execution_count": 78,
     "metadata": {},
     "output_type": "execute_result"
    }
   ],
   "source": [
    "Actors_dataframe"
   ]
  },
  {
   "cell_type": "code",
   "execution_count": 79,
   "metadata": {},
   "outputs": [],
   "source": [
    "sns.set_style(\"whitegrid\")"
   ]
  },
  {
   "cell_type": "markdown",
   "metadata": {},
   "source": [
    "# Model Output\n"
   ]
  },
  {
   "cell_type": "code",
   "execution_count": 80,
   "metadata": {},
   "outputs": [
    {
     "data": {
      "image/png": "[encoded data removed]",
      "text/plain": [
       "<Figure size 432x288 with 1 Axes>"
      ]
     },
     "metadata": {},
     "output_type": "display_data"
    }
   ],
   "source": [
    "ax=sns.barplot(data=Actors_dataframe,x=\"Coef\",y='Actor_name')\n",
    "ax.set_xticklabels([5,5.5,6,6.5,7,7.5])\n",
    "plt.xlabel(\"Coeffecient\")\n",
    "plt.ylabel(\"Actor Name\")\n",
    "plt.show()"
   ]
  },
  {
   "cell_type": "code",
   "execution_count": null,
   "metadata": {},
   "outputs": [],
   "source": []
  }
 ],
 "metadata": {
  "kernelspec": {
   "display_name": "Python 3",
   "language": "python",
   "name": "python3"
  },
  "language_info": {
   "codemirror_mode": {
    "name": "ipython",
    "version": 3
   },
   "file_extension": ".py",
   "mimetype": "text/x-python",
   "name": "python",
   "nbconvert_exporter": "python",
   "pygments_lexer": "ipython3",
   "version": "3.8.8"
  }
 },
 "nbformat": 4,
 "nbformat_minor": 4
}
